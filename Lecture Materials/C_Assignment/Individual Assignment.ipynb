{
  "cells": [
    {
      "cell_type": "markdown",
      "metadata": {
        "id": "U8YOCpyn-rKa"
      },
      "source": [
        "#**HOMEWORK: BLUE BIKE TRIP DURATION PREDICTION (Total: / 15 points)**"
      ]
    },
    {
      "cell_type": "markdown",
      "source": [
        "Context: You have received some data from Blue Bikes (the Boston Bikesharing Service). They have asked you to provide a predictive model that can accurately predict how long a given bike rental will last, at the time the rental begins. The use case is that the bike share company wants to be able to predict how long a customer will have the bike in their possession, when they begin their retnal, in order to better manage operational efficiency across the bike network. Note that when the customer initiates a bike rental, they enter the starting station ID and ending station ID for their trip, into the mobile app."
      ],
      "metadata": {
        "id": "fxAF2jbRA3WY"
      }
    },
    {
      "cell_type": "markdown",
      "metadata": {
        "id": "sMblm7NpWSY9"
      },
      "source": [
        "# *Name: (Student Name Here)*\n",
        "# *Email: (Student Email Here)*"
      ]
    },
    {
      "cell_type": "markdown",
      "metadata": {
        "id": "jF365-n0EC-q"
      },
      "source": [
        "#*Import and Pre-process Data*"
      ]
    },
    {
      "cell_type": "code",
      "execution_count": 9,
      "metadata": {
        "id": "a2ab2j0wz3oA"
      },
      "outputs": [],
      "source": [
        "import pandas as pd\n",
        "import numpy as np\n",
        "import tensorflow as tf\n",
        "from tensorflow import keras\n",
        "import matplotlib.pyplot as plt\n",
        "from sklearn.preprocessing import StandardScaler\n",
        "from sklearn.model_selection import train_test_split\n",
        "from tensorflow.keras.callbacks import EarlyStopping, ReduceLROnPlateau\n",
        "\n",
        "bluebikes = pd.read_csv('https://raw.githubusercontent.com/gburtch/BA865-2023/main/Lecture%20Materials/C_Assignment/bluebikes_sample.csv')\n",
        "\n",
        "# This function MUST return a pair of objects (predictors, labels, in that order) as numpy arrays.\n",
        "\n",
        "def processData(data):\n",
        "    # Convert starttime to datetime object\n",
        "    data['starttime'] = pd.to_datetime(data['starttime'], errors='coerce')\n",
        "\n",
        "    # Create new columns for the hour, day of the week, month, and year when the trip started\n",
        "    data['start_hour'] = data['starttime'].dt.hour\n",
        "    data['start_day_of_week'] = data['starttime'].dt.dayofweek\n",
        "    data['start_month'] = data['starttime'].dt.month\n",
        "    data['start_year'] = data['starttime'].dt.year\n",
        "\n",
        "    # Extract start and end station IDs\n",
        "    data['start_station_id'] = data['start station name'].str.extract('(\\d+)', expand=False).astype(float)\n",
        "    data['end_station_id'] = data['end station name'].str.extract('(\\d+)', expand=False).astype(float)\n",
        "\n",
        "    # Calculate trip duration in minutes\n",
        "    data['tripduration_minutes'] = data['tripduration'] / 60\n",
        "\n",
        "    # Drop unnecessary columns\n",
        "    predictors = data.drop(columns=['tripduration', 'starttime', 'stoptime', 'start station name', 'end station name', 'bikeid'])\n",
        "\n",
        "    # Fill in missing values with the median of the corresponding column\n",
        "    predictors = predictors.fillna(predictors.median())\n",
        "\n",
        "    # One-hot encode the usertype column\n",
        "    predictors = pd.concat([predictors, pd.get_dummies(predictors['usertype'], drop_first=True)], axis=1)\n",
        "    predictors = predictors.drop(columns=['usertype'])\n",
        "\n",
        "    # Normalize/standardize the features\n",
        "    scaler = StandardScaler()\n",
        "    predictors_scaled = scaler.fit_transform(predictors)\n",
        "\n",
        "    # Convert to numpy arrays\n",
        "    predictors = predictors_scaled\n",
        "    labels = data['tripduration'].to_numpy()\n",
        "\n",
        "    return predictors, labels\n",
        "\n",
        "\n",
        "\n"
      ]
    },
    {
      "cell_type": "markdown",
      "metadata": {
        "id": "vhnwnEtEOeXd"
      },
      "source": [
        "#*Specify Your Neural Network Architecture, Process Your Sample*"
      ]
    },
    {
      "cell_type": "markdown",
      "metadata": {
        "id": "8KZXFE1fWMcj"
      },
      "source": [
        "Calling the data pre-processing function on the sample."
      ]
    },
    {
      "cell_type": "code",
      "execution_count": 10,
      "metadata": {
        "id": "HToKOpiSoZmf",
        "outputId": "aaecb134-2deb-4d3b-a13c-c0e73582307f",
        "colab": {
          "base_uri": "https://localhost:8080/"
        }
      },
      "outputs": [
        {
          "output_type": "stream",
          "name": "stderr",
          "text": [
            "<ipython-input-9-9de7458416be>:35: FutureWarning: The default value of numeric_only in DataFrame.median is deprecated. In a future version, it will default to False. In addition, specifying 'numeric_only=None' is deprecated. Select only valid columns or specify the value of numeric_only to silence this warning.\n",
            "  predictors = predictors.fillna(predictors.median())\n"
          ]
        }
      ],
      "source": [
        "predictors, labels = processData(bluebikes)"
      ]
    },
    {
      "cell_type": "markdown",
      "metadata": {
        "id": "RGYaiNdpoako"
      },
      "source": [
        "Specifying my Neural Network's structure. Note that the important thing for performance with this model actually comes down to its depth! It turns out that width isn't that important here. \n"
      ]
    },
    {
      "cell_type": "code",
      "execution_count": 12,
      "metadata": {
        "id": "8JBFs2OXdZzU"
      },
      "outputs": [],
      "source": [
        "# Define early stopping and learning rate reduction callbacks\n",
        "early_stop = EarlyStopping(patience=10, monitor='val_loss', restore_best_weights=True)\n",
        "reduce_lr = ReduceLROnPlateau(monitor='val_loss', factor=0.1, patience=5)\n",
        "\n",
        "# Split the data into training and validation sets\n",
        "train_predictors, val_predictors, train_labels, val_labels = train_test_split(predictors, labels, test_size=0.2)\n",
        "\n",
        "# Build the model\n",
        "def build_model():\n",
        "    # create a sequential model\n",
        "    model = keras.Sequential([\n",
        "        keras.layers.Dense(128, activation='relu', input_shape=[train_predictors.shape[1]]),\n",
        "        keras.layers.Dropout(0.3),\n",
        "        keras.layers.Dense(64, activation='relu'),\n",
        "        keras.layers.Dropout(0.3),\n",
        "        keras.layers.Dense(32, activation='relu'),\n",
        "        keras.layers.Dropout(0.3),\n",
        "        keras.layers.Dense(1)\n",
        "    ])\n",
        "\n",
        "    # compile the model with the mean squared error loss and the adam optimizer\n",
        "    model.compile(loss='mse', optimizer='rmsprop', metrics=['mae'])\n",
        "\n",
        "    return model\n",
        "\n",
        "\n"
      ]
    },
    {
      "cell_type": "markdown",
      "metadata": {
        "id": "5etiTCpuMQH5"
      },
      "source": [
        "#*Train Your Neural Network Here*"
      ]
    },
    {
      "cell_type": "code",
      "execution_count": 13,
      "metadata": {
        "id": "imfRiESllpKm",
        "outputId": "96f2d735-2226-473d-aa84-fb77732cd4f9",
        "colab": {
          "base_uri": "https://localhost:8080/"
        }
      },
      "outputs": [
        {
          "output_type": "stream",
          "name": "stdout",
          "text": [
            "Epoch 1/100\n",
            "113/113 [==============================] - 2s 6ms/step - loss: 1770026.6250 - mae: 787.1242 - val_loss: 5288292.5000 - val_mae: 702.6119 - lr: 0.0010\n",
            "Epoch 2/100\n",
            "113/113 [==============================] - 0s 4ms/step - loss: 1120600.6250 - mae: 500.8758 - val_loss: 3683051.2500 - val_mae: 457.7550 - lr: 0.0010\n",
            "Epoch 3/100\n",
            "113/113 [==============================] - 0s 4ms/step - loss: 766190.2500 - mae: 429.5894 - val_loss: 2795112.7500 - val_mae: 428.7958 - lr: 0.0010\n",
            "Epoch 4/100\n",
            "113/113 [==============================] - 0s 4ms/step - loss: 604302.6250 - mae: 393.9107 - val_loss: 2015161.6250 - val_mae: 383.9335 - lr: 0.0010\n",
            "Epoch 5/100\n",
            "113/113 [==============================] - 0s 4ms/step - loss: 381998.3438 - mae: 346.6003 - val_loss: 1120511.1250 - val_mae: 314.4217 - lr: 0.0010\n",
            "Epoch 6/100\n",
            "113/113 [==============================] - 0s 4ms/step - loss: 221445.1406 - mae: 276.8344 - val_loss: 377165.6562 - val_mae: 211.7030 - lr: 0.0010\n",
            "Epoch 7/100\n",
            "113/113 [==============================] - 0s 4ms/step - loss: 106758.7500 - mae: 207.8799 - val_loss: 32644.2188 - val_mae: 116.6666 - lr: 0.0010\n",
            "Epoch 8/100\n",
            "113/113 [==============================] - 0s 4ms/step - loss: 77906.7812 - mae: 170.0861 - val_loss: 16945.5605 - val_mae: 97.4805 - lr: 0.0010\n",
            "Epoch 9/100\n",
            "113/113 [==============================] - 0s 4ms/step - loss: 81089.7578 - mae: 161.0739 - val_loss: 10501.9434 - val_mae: 78.3029 - lr: 0.0010\n",
            "Epoch 10/100\n",
            "113/113 [==============================] - 0s 4ms/step - loss: 60844.8281 - mae: 149.8743 - val_loss: 24980.6016 - val_mae: 63.3298 - lr: 0.0010\n",
            "Epoch 11/100\n",
            "113/113 [==============================] - 1s 5ms/step - loss: 62527.8594 - mae: 147.6439 - val_loss: 12698.3477 - val_mae: 78.8904 - lr: 0.0010\n",
            "Epoch 12/100\n",
            "113/113 [==============================] - 1s 6ms/step - loss: 84104.6719 - mae: 151.2537 - val_loss: 8136.7891 - val_mae: 68.1086 - lr: 0.0010\n",
            "Epoch 13/100\n",
            "113/113 [==============================] - 1s 6ms/step - loss: 130440.3750 - mae: 144.0731 - val_loss: 8242.7441 - val_mae: 71.2667 - lr: 0.0010\n",
            "Epoch 14/100\n",
            "113/113 [==============================] - 1s 7ms/step - loss: 62835.9336 - mae: 141.5094 - val_loss: 12128.3203 - val_mae: 46.1239 - lr: 0.0010\n",
            "Epoch 15/100\n",
            "113/113 [==============================] - 1s 5ms/step - loss: 73592.2812 - mae: 144.3658 - val_loss: 4333.0249 - val_mae: 47.8026 - lr: 0.0010\n",
            "Epoch 16/100\n",
            "113/113 [==============================] - 0s 4ms/step - loss: 75748.3594 - mae: 136.9627 - val_loss: 3519.5237 - val_mae: 45.7652 - lr: 0.0010\n",
            "Epoch 17/100\n",
            "113/113 [==============================] - 0s 4ms/step - loss: 70928.5625 - mae: 137.1131 - val_loss: 8043.3906 - val_mae: 54.9669 - lr: 0.0010\n",
            "Epoch 18/100\n",
            "113/113 [==============================] - 0s 4ms/step - loss: 60252.4258 - mae: 136.5375 - val_loss: 3236.1370 - val_mae: 44.3720 - lr: 0.0010\n",
            "Epoch 19/100\n",
            "113/113 [==============================] - 1s 4ms/step - loss: 62652.4922 - mae: 135.1466 - val_loss: 4451.0518 - val_mae: 50.8400 - lr: 0.0010\n",
            "Epoch 20/100\n",
            "113/113 [==============================] - 1s 4ms/step - loss: 81942.8125 - mae: 136.8951 - val_loss: 4985.6538 - val_mae: 34.1331 - lr: 0.0010\n",
            "Epoch 21/100\n",
            "113/113 [==============================] - 0s 4ms/step - loss: 62512.2969 - mae: 134.4259 - val_loss: 19018.1152 - val_mae: 62.2256 - lr: 0.0010\n",
            "Epoch 22/100\n",
            "113/113 [==============================] - 0s 4ms/step - loss: 65401.7148 - mae: 134.5806 - val_loss: 3538.5830 - val_mae: 39.5820 - lr: 0.0010\n",
            "Epoch 23/100\n",
            "113/113 [==============================] - 1s 4ms/step - loss: 52512.1367 - mae: 129.9680 - val_loss: 4124.9346 - val_mae: 51.7826 - lr: 0.0010\n",
            "Epoch 24/100\n",
            "113/113 [==============================] - 0s 4ms/step - loss: 75382.1875 - mae: 133.5023 - val_loss: 2267.0901 - val_mae: 36.1764 - lr: 1.0000e-04\n",
            "Epoch 25/100\n",
            "113/113 [==============================] - 0s 4ms/step - loss: 73935.2344 - mae: 133.2257 - val_loss: 2492.6475 - val_mae: 39.2988 - lr: 1.0000e-04\n",
            "Epoch 26/100\n",
            "113/113 [==============================] - 0s 4ms/step - loss: 77771.9766 - mae: 133.5505 - val_loss: 2582.8967 - val_mae: 38.8453 - lr: 1.0000e-04\n",
            "Epoch 27/100\n",
            "113/113 [==============================] - 0s 4ms/step - loss: 69106.3438 - mae: 132.2503 - val_loss: 3009.5173 - val_mae: 40.5217 - lr: 1.0000e-04\n",
            "Epoch 28/100\n",
            "113/113 [==============================] - 0s 4ms/step - loss: 66906.0000 - mae: 129.5471 - val_loss: 1552.7179 - val_mae: 30.3655 - lr: 1.0000e-04\n",
            "Epoch 29/100\n",
            "113/113 [==============================] - 0s 4ms/step - loss: 59485.4844 - mae: 129.5255 - val_loss: 1762.0295 - val_mae: 33.0550 - lr: 1.0000e-04\n",
            "Epoch 30/100\n",
            "113/113 [==============================] - 0s 4ms/step - loss: 68021.5547 - mae: 131.3222 - val_loss: 1936.3525 - val_mae: 34.5433 - lr: 1.0000e-04\n",
            "Epoch 31/100\n",
            "113/113 [==============================] - 0s 4ms/step - loss: 62843.1406 - mae: 129.8232 - val_loss: 2119.6719 - val_mae: 36.0844 - lr: 1.0000e-04\n",
            "Epoch 32/100\n",
            "113/113 [==============================] - 0s 4ms/step - loss: 57757.3906 - mae: 129.2395 - val_loss: 1533.6560 - val_mae: 30.3113 - lr: 1.0000e-04\n",
            "Epoch 33/100\n",
            "113/113 [==============================] - 0s 4ms/step - loss: 65976.3984 - mae: 128.7347 - val_loss: 2040.4459 - val_mae: 34.7232 - lr: 1.0000e-04\n",
            "Epoch 34/100\n",
            "113/113 [==============================] - 0s 4ms/step - loss: 52048.2148 - mae: 128.0078 - val_loss: 1509.9749 - val_mae: 30.0103 - lr: 1.0000e-04\n",
            "Epoch 35/100\n",
            "113/113 [==============================] - 0s 4ms/step - loss: 87906.2344 - mae: 134.9256 - val_loss: 1563.1188 - val_mae: 31.0119 - lr: 1.0000e-04\n",
            "Epoch 36/100\n",
            "113/113 [==============================] - 1s 7ms/step - loss: 63014.1289 - mae: 129.9171 - val_loss: 2248.1309 - val_mae: 36.1621 - lr: 1.0000e-04\n",
            "Epoch 37/100\n",
            "113/113 [==============================] - 1s 6ms/step - loss: 79745.0703 - mae: 131.8447 - val_loss: 1523.6233 - val_mae: 30.0607 - lr: 1.0000e-04\n",
            "Epoch 38/100\n",
            "113/113 [==============================] - 1s 6ms/step - loss: 89771.6016 - mae: 131.3923 - val_loss: 2077.1816 - val_mae: 35.7159 - lr: 1.0000e-04\n",
            "Epoch 39/100\n",
            "113/113 [==============================] - 1s 5ms/step - loss: 62424.0352 - mae: 129.7106 - val_loss: 2271.6853 - val_mae: 35.9170 - lr: 1.0000e-04\n",
            "Epoch 40/100\n",
            "113/113 [==============================] - 0s 4ms/step - loss: 62111.7109 - mae: 131.0074 - val_loss: 2298.8350 - val_mae: 36.0024 - lr: 1.0000e-05\n",
            "Epoch 41/100\n",
            "113/113 [==============================] - 0s 4ms/step - loss: 87656.5547 - mae: 133.7655 - val_loss: 2365.2314 - val_mae: 36.2437 - lr: 1.0000e-05\n",
            "Epoch 42/100\n",
            "113/113 [==============================] - 0s 4ms/step - loss: 58141.5195 - mae: 129.7310 - val_loss: 2342.0415 - val_mae: 36.0242 - lr: 1.0000e-05\n",
            "Epoch 43/100\n",
            "113/113 [==============================] - 0s 4ms/step - loss: 53874.8672 - mae: 129.7322 - val_loss: 2260.4683 - val_mae: 35.4433 - lr: 1.0000e-05\n",
            "Epoch 44/100\n",
            "113/113 [==============================] - 0s 4ms/step - loss: 71764.5625 - mae: 131.6278 - val_loss: 2100.0828 - val_mae: 34.5354 - lr: 1.0000e-05\n",
            "57/57 [==============================] - 0s 2ms/step - loss: 1509.9747 - mae: 30.0103\n",
            "Validation mean squared error: 1509.9747314453125\n",
            "Validation mean absolute error: 30.010295867919922\n"
          ]
        }
      ],
      "source": [
        "model = build_model()\n",
        "\n",
        "# Train the model with callbacks\n",
        "history = model.fit(train_predictors, train_labels, batch_size=64, epochs=100, \n",
        "                    validation_data=(val_predictors, val_labels),\n",
        "                    callbacks=[early_stop, reduce_lr])\n",
        "\n",
        "# Evaluate the model\n",
        "mse, mae = model.evaluate(val_predictors, val_labels)\n",
        "print('Validation mean squared error:', mse)\n",
        "print('Validation mean absolute error:', mae)"
      ]
    },
    {
      "cell_type": "markdown",
      "metadata": {
        "id": "XcD7R5-UG8sl"
      },
      "source": [
        "Plot your model performance over training here:"
      ]
    },
    {
      "cell_type": "code",
      "execution_count": 15,
      "metadata": {
        "id": "jXQEVK1bHAHy",
        "outputId": "b164dfd9-ee47-4faf-a6e7-6c996a257184",
        "colab": {
          "base_uri": "https://localhost:8080/",
          "height": 564
        }
      },
      "outputs": [
        {
          "output_type": "display_data",
          "data": {
            "text/plain": [
              "<Figure size 1200x600 with 1 Axes>"
            ],
            "image/png": "[encoded data removed]"
          },
          "metadata": {}
        }
      ],
      "source": [
        "# Plot the model performance\n",
        "plt.figure(figsize=(12, 6))\n",
        "\n",
        "# Plot the training loss and validation loss\n",
        "plt.plot(history.history['loss'], label='Training Loss')\n",
        "plt.plot(history.history['val_loss'], label='Validation Loss')\n",
        "\n",
        "# Set the title and labels for the axes\n",
        "plt.title('Model Performance Over Training')\n",
        "plt.xlabel('Epoch')\n",
        "plt.ylabel('Loss')\n",
        "plt.legend()\n",
        "\n",
        "# Display the plot\n",
        "plt.show()"
      ]
    },
    {
      "cell_type": "markdown",
      "metadata": {
        "id": "799Ss4r4cDB5"
      },
      "source": [
        "#*Choose Final Configuration and Produce That Model Here:*"
      ]
    },
    {
      "cell_type": "code",
      "execution_count": null,
      "metadata": {
        "id": "TkVkAJaGcFCJ"
      },
      "outputs": [],
      "source": [
        "model = build_model()\n",
        "model.fit(predictors,labels,epochs=80, batch_size=50) # for example"
      ]
    },
    {
      "cell_type": "markdown",
      "metadata": {
        "id": "MFDAd_jXiFHR"
      },
      "source": [
        "Here's what the resulting model looks like."
      ]
    },
    {
      "cell_type": "code",
      "execution_count": null,
      "metadata": {
        "id": "XmZBB8Y4iJER"
      },
      "outputs": [],
      "source": [
        "model.summary()"
      ]
    },
    {
      "cell_type": "markdown",
      "metadata": {
        "id": "9xWiloTgSuC_"
      },
      "source": [
        "#*Final Evaluation*"
      ]
    },
    {
      "cell_type": "markdown",
      "metadata": {
        "id": "JVpo01AsSySZ"
      },
      "source": [
        "Don't modify this section; this is the code I will use to evaluate that your model is output properly and that it can generate predictions on new test observations it has never seen before. If your model breaks when I feed it the new data, I will deduct marks, so please ensure that your data pre-processing function works properly!"
      ]
    },
    {
      "cell_type": "code",
      "execution_count": null,
      "metadata": {
        "id": "RzEJ5p5tS4Zz"
      },
      "outputs": [],
      "source": [
        "from google.colab import files\n",
        "import io\n",
        "\n",
        "# I'm going to upload my holdout dataset (same set of features)\n",
        "uploaded = files.upload()\n",
        "bluebike_holdout = pd.read_csv(io.BytesIO(uploaded['bluebikes_holdout.csv']))\n",
        "\n",
        "# I'm then going to pre-process it using your commands.\n",
        "holdout_predictors, holdout_labels = processData(bluebike_holdout)\n",
        "\n",
        "# Then I'm going to evaluate your model's performance on that data.\n",
        "loss_metrics = model.evaluate(holdout_predictors,holdout_labels,verbose=1)"
      ]
    }
  ],
  "metadata": {
    "accelerator": "GPU",
    "colab": {
      "provenance": []
    },
    "kernelspec": {
      "display_name": "Python 3",
      "name": "python3"
    },
    "language_info": {
      "name": "python"
    }
  },
  "nbformat": 4,
  "nbformat_minor": 0
}