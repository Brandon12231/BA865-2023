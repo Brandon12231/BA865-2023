{
  "cells": [
    {
      "cell_type": "markdown",
      "metadata": {
        "id": "U8YOCpyn-rKa"
      },
      "source": [
        "#**HOMEWORK: BLUE BIKE TRIP DURATION PREDICTION (Total: / 15 points)**"
      ]
    },
    {
      "cell_type": "markdown",
      "source": [
        "Context: You have received some data from Blue Bikes (the Boston Bikesharing Service). They have asked you to provide a predictive model that can accurately predict how long a given bike rental will last, at the time the rental begins. The use case is that the bike share company wants to be able to predict how long a customer will have the bike in their possession, when they begin their retnal, in order to better manage operational efficiency across the bike network. Note that when the customer initiates a bike rental, they enter the starting station ID and ending station ID for their trip, into the mobile app."
      ],
      "metadata": {
        "id": "fxAF2jbRA3WY"
      }
    },
    {
      "cell_type": "markdown",
      "metadata": {
        "id": "sMblm7NpWSY9"
      },
      "source": [
        "# *Name: (Student Name Here)*\n",
        "# *Email: (Student Email Here)*"
      ]
    },
    {
      "cell_type": "markdown",
      "metadata": {
        "id": "jF365-n0EC-q"
      },
      "source": [
        "#*Import and Pre-process Data*"
      ]
    },
    {
      "cell_type": "code",
      "execution_count": 1,
      "metadata": {
        "id": "a2ab2j0wz3oA"
      },
      "outputs": [],
      "source": [
        "import pandas as pd\n",
        "import numpy as np\n",
        "import tensorflow as tf\n",
        "from tensorflow import keras\n",
        "import matplotlib.pyplot as plt\n",
        "from sklearn.preprocessing import StandardScaler\n",
        "from sklearn.model_selection import train_test_split\n",
        "from tensorflow.keras.callbacks import EarlyStopping, ReduceLROnPlateau\n",
        "\n",
        "bluebikes = pd.read_csv('https://raw.githubusercontent.com/gburtch/BA865-2023/main/Lecture%20Materials/C_Assignment/bluebikes_sample.csv')\n",
        "\n",
        "# This function MUST return a pair of objects (predictors, labels, in that order) as numpy arrays.\n",
        "\n",
        "def processData(data):\n",
        "    # Convert starttime to datetime object\n",
        "    data['starttime'] = pd.to_datetime(data['starttime'], errors='coerce')\n",
        "\n",
        "    # Create new columns for the hour, day of the week, month, and year when the trip started\n",
        "    data['start_hour'] = data['starttime'].dt.hour\n",
        "    data['start_day_of_week'] = data['starttime'].dt.dayofweek\n",
        "    data['start_month'] = data['starttime'].dt.month\n",
        "    data['start_year'] = data['starttime'].dt.year\n",
        "\n",
        "    # Extract start and end station IDs\n",
        "    data['start_station_id'] = data['start station name'].str.extract('(\\d+)', expand=False).astype(float)\n",
        "    data['end_station_id'] = data['end station name'].str.extract('(\\d+)', expand=False).astype(float)\n",
        "\n",
        "    # Calculate trip duration in minutes\n",
        "    data['tripduration_minutes'] = data['tripduration'] / 60\n",
        "\n",
        "    # Drop unnecessary columns\n",
        "    predictors = data.drop(columns=['tripduration', 'starttime', 'stoptime', 'start station name', 'end station name', 'bikeid'])\n",
        "\n",
        "    # Fill in missing values with the median of the corresponding column\n",
        "    predictors = predictors.fillna(predictors.median())\n",
        "\n",
        "    # One-hot encode the usertype column\n",
        "    predictors = pd.concat([predictors, pd.get_dummies(predictors['usertype'], drop_first=True)], axis=1)\n",
        "    predictors = predictors.drop(columns=['usertype'])\n",
        "\n",
        "    # Normalize/standardize the features\n",
        "    scaler = StandardScaler()\n",
        "    predictors_scaled = scaler.fit_transform(predictors)\n",
        "\n",
        "    # Convert to numpy arrays\n",
        "    predictors = predictors_scaled\n",
        "    labels = data['tripduration'].to_numpy()\n",
        "\n",
        "    return predictors, labels\n",
        "\n",
        "\n",
        "\n"
      ]
    },
    {
      "cell_type": "markdown",
      "metadata": {
        "id": "vhnwnEtEOeXd"
      },
      "source": [
        "#*Specify Your Neural Network Architecture, Process Your Sample*"
      ]
    },
    {
      "cell_type": "markdown",
      "metadata": {
        "id": "8KZXFE1fWMcj"
      },
      "source": [
        "Calling the data pre-processing function on the sample."
      ]
    },
    {
      "cell_type": "code",
      "execution_count": 2,
      "metadata": {
        "id": "HToKOpiSoZmf",
        "outputId": "8d38360e-5e9c-4c8c-991c-b9c8510af8db",
        "colab": {
          "base_uri": "https://localhost:8080/"
        }
      },
      "outputs": [
        {
          "output_type": "stream",
          "name": "stderr",
          "text": [
            "<ipython-input-1-9de7458416be>:35: FutureWarning: The default value of numeric_only in DataFrame.median is deprecated. In a future version, it will default to False. In addition, specifying 'numeric_only=None' is deprecated. Select only valid columns or specify the value of numeric_only to silence this warning.\n",
            "  predictors = predictors.fillna(predictors.median())\n"
          ]
        }
      ],
      "source": [
        "predictors, labels = processData(bluebikes)"
      ]
    },
    {
      "cell_type": "markdown",
      "metadata": {
        "id": "RGYaiNdpoako"
      },
      "source": [
        "Specifying my Neural Network's structure. Note that the important thing for performance with this model actually comes down to its depth! It turns out that width isn't that important here. \n"
      ]
    },
    {
      "cell_type": "code",
      "execution_count": 3,
      "metadata": {
        "id": "8JBFs2OXdZzU"
      },
      "outputs": [],
      "source": [
        "# Define early stopping and learning rate reduction callbacks\n",
        "early_stop = EarlyStopping(patience=10, monitor='val_loss', restore_best_weights=True)\n",
        "reduce_lr = ReduceLROnPlateau(monitor='val_loss', factor=0.1, patience=5)\n",
        "\n",
        "# Split the data into training and validation sets\n",
        "train_predictors, val_predictors, train_labels, val_labels = train_test_split(predictors, labels, test_size=0.2)\n",
        "\n",
        "# Build the model\n",
        "def build_model():\n",
        "    # create a sequential model\n",
        "    model = keras.Sequential([\n",
        "        keras.layers.Dense(128, activation='relu', input_shape=[train_predictors.shape[1]]),\n",
        "        keras.layers.Dropout(0.3),\n",
        "        keras.layers.Dense(64, activation='relu'),\n",
        "        keras.layers.Dropout(0.3),\n",
        "        keras.layers.Dense(32, activation='relu'),\n",
        "        keras.layers.Dropout(0.3),\n",
        "        keras.layers.Dense(1)\n",
        "    ])\n",
        "\n",
        "    # compile the model with the mean squared error loss and the adam optimizer\n",
        "    model.compile(loss='mse', optimizer='rmsprop', metrics=['mae'])\n",
        "\n",
        "    return model\n",
        "\n",
        "\n"
      ]
    },
    {
      "cell_type": "markdown",
      "metadata": {
        "id": "5etiTCpuMQH5"
      },
      "source": [
        "#*Train Your Neural Network Here*"
      ]
    },
    {
      "cell_type": "code",
      "execution_count": 9,
      "metadata": {
        "id": "imfRiESllpKm",
        "outputId": "a8912e80-f03a-416e-d0dd-4c602700f948",
        "colab": {
          "base_uri": "https://localhost:8080/"
        }
      },
      "outputs": [
        {
          "output_type": "stream",
          "name": "stdout",
          "text": [
            "Epoch 1/100\n",
            "113/113 [==============================] - 2s 5ms/step - loss: 2628924.2500 - mae: 772.5240 - val_loss: 1740044.6250 - val_mae: 637.9975 - lr: 0.0010\n",
            "Epoch 2/100\n",
            "113/113 [==============================] - 0s 4ms/step - loss: 1951969.8750 - mae: 493.5150 - val_loss: 1120445.2500 - val_mae: 453.1169 - lr: 0.0010\n",
            "Epoch 3/100\n",
            "113/113 [==============================] - 0s 4ms/step - loss: 1549659.7500 - mae: 449.7785 - val_loss: 968975.9375 - val_mae: 432.8170 - lr: 0.0010\n",
            "Epoch 4/100\n",
            "113/113 [==============================] - 0s 4ms/step - loss: 1245422.7500 - mae: 430.3916 - val_loss: 811872.0625 - val_mae: 406.7035 - lr: 0.0010\n",
            "Epoch 5/100\n",
            "113/113 [==============================] - 0s 4ms/step - loss: 990596.3125 - mae: 401.5221 - val_loss: 648886.6875 - val_mae: 371.8777 - lr: 0.0010\n",
            "Epoch 6/100\n",
            "113/113 [==============================] - 0s 4ms/step - loss: 1024174.1250 - mae: 366.4260 - val_loss: 464397.6875 - val_mae: 322.5735 - lr: 0.0010\n",
            "Epoch 7/100\n",
            "113/113 [==============================] - 0s 4ms/step - loss: 476524.4375 - mae: 307.5980 - val_loss: 258551.0781 - val_mae: 251.8170 - lr: 0.0010\n",
            "Epoch 8/100\n",
            "113/113 [==============================] - 0s 4ms/step - loss: 188400.1719 - mae: 238.6968 - val_loss: 59214.2656 - val_mae: 154.7949 - lr: 0.0010\n",
            "Epoch 9/100\n",
            "113/113 [==============================] - 0s 4ms/step - loss: 132349.8750 - mae: 182.4279 - val_loss: 20262.3496 - val_mae: 104.5145 - lr: 0.0010\n",
            "Epoch 10/100\n",
            "113/113 [==============================] - 0s 4ms/step - loss: 126323.8828 - mae: 161.9160 - val_loss: 16003.0137 - val_mae: 93.6065 - lr: 0.0010\n",
            "Epoch 11/100\n",
            "113/113 [==============================] - 0s 4ms/step - loss: 146827.0938 - mae: 155.3720 - val_loss: 9462.8408 - val_mae: 74.8302 - lr: 0.0010\n",
            "Epoch 12/100\n",
            "113/113 [==============================] - 0s 4ms/step - loss: 92354.6016 - mae: 147.0695 - val_loss: 8365.1299 - val_mae: 67.7479 - lr: 0.0010\n",
            "Epoch 13/100\n",
            "113/113 [==============================] - 1s 4ms/step - loss: 75181.5391 - mae: 144.8911 - val_loss: 9342.0693 - val_mae: 76.4798 - lr: 0.0010\n",
            "Epoch 14/100\n",
            "113/113 [==============================] - 0s 4ms/step - loss: 92829.4219 - mae: 141.9559 - val_loss: 7218.5488 - val_mae: 64.7135 - lr: 0.0010\n",
            "Epoch 15/100\n",
            "113/113 [==============================] - 0s 4ms/step - loss: 230559.2188 - mae: 143.6880 - val_loss: 7733.2153 - val_mae: 66.8051 - lr: 0.0010\n",
            "Epoch 16/100\n",
            "113/113 [==============================] - 0s 4ms/step - loss: 64541.1836 - mae: 136.3941 - val_loss: 6308.9277 - val_mae: 63.1786 - lr: 0.0010\n",
            "Epoch 17/100\n",
            "113/113 [==============================] - 1s 4ms/step - loss: 62395.2188 - mae: 135.3413 - val_loss: 4957.9795 - val_mae: 50.2957 - lr: 0.0010\n",
            "Epoch 18/100\n",
            "113/113 [==============================] - 1s 7ms/step - loss: 81224.2578 - mae: 138.0682 - val_loss: 11564.0654 - val_mae: 74.1453 - lr: 0.0010\n",
            "Epoch 19/100\n",
            "113/113 [==============================] - 1s 7ms/step - loss: 72279.1562 - mae: 134.4854 - val_loss: 4558.3496 - val_mae: 47.3557 - lr: 0.0010\n",
            "Epoch 20/100\n",
            "113/113 [==============================] - 1s 6ms/step - loss: 62194.0508 - mae: 132.5497 - val_loss: 3081.3770 - val_mae: 42.8755 - lr: 0.0010\n",
            "Epoch 21/100\n",
            "113/113 [==============================] - 1s 7ms/step - loss: 62165.2344 - mae: 131.5447 - val_loss: 3915.9648 - val_mae: 38.4216 - lr: 0.0010\n",
            "Epoch 22/100\n",
            "113/113 [==============================] - 1s 5ms/step - loss: 76420.9766 - mae: 132.7627 - val_loss: 3496.1311 - val_mae: 45.2433 - lr: 0.0010\n",
            "Epoch 23/100\n",
            "113/113 [==============================] - 0s 4ms/step - loss: 160452.9375 - mae: 133.2043 - val_loss: 3772.7622 - val_mae: 48.1629 - lr: 0.0010\n",
            "Epoch 24/100\n",
            "113/113 [==============================] - 0s 4ms/step - loss: 56686.3164 - mae: 130.3441 - val_loss: 2856.5642 - val_mae: 36.9424 - lr: 0.0010\n",
            "Epoch 25/100\n",
            "113/113 [==============================] - 1s 5ms/step - loss: 70157.0703 - mae: 130.3241 - val_loss: 2509.7302 - val_mae: 32.7687 - lr: 0.0010\n",
            "Epoch 26/100\n",
            "113/113 [==============================] - 0s 4ms/step - loss: 50999.7617 - mae: 128.1073 - val_loss: 2665.1611 - val_mae: 40.4094 - lr: 0.0010\n",
            "Epoch 27/100\n",
            "113/113 [==============================] - 0s 4ms/step - loss: 135789.7500 - mae: 129.5791 - val_loss: 5035.9155 - val_mae: 58.1983 - lr: 0.0010\n",
            "Epoch 28/100\n",
            "113/113 [==============================] - 0s 4ms/step - loss: 59969.6523 - mae: 127.4920 - val_loss: 1833.9504 - val_mae: 32.7507 - lr: 0.0010\n",
            "Epoch 29/100\n",
            "113/113 [==============================] - 0s 4ms/step - loss: 143960.3750 - mae: 131.1086 - val_loss: 1701.8475 - val_mae: 32.7767 - lr: 0.0010\n",
            "Epoch 30/100\n",
            "113/113 [==============================] - 0s 4ms/step - loss: 142159.6250 - mae: 128.4994 - val_loss: 2070.0845 - val_mae: 33.1560 - lr: 0.0010\n",
            "Epoch 31/100\n",
            "113/113 [==============================] - 0s 4ms/step - loss: 63485.8750 - mae: 127.6517 - val_loss: 3781.2312 - val_mae: 40.3386 - lr: 0.0010\n",
            "Epoch 32/100\n",
            "113/113 [==============================] - 0s 4ms/step - loss: 85106.5234 - mae: 127.1117 - val_loss: 2267.4419 - val_mae: 33.1203 - lr: 0.0010\n",
            "Epoch 33/100\n",
            "113/113 [==============================] - 0s 4ms/step - loss: 98059.0312 - mae: 129.1409 - val_loss: 3757.2488 - val_mae: 42.2135 - lr: 0.0010\n",
            "Epoch 34/100\n",
            "113/113 [==============================] - 0s 4ms/step - loss: 70603.9922 - mae: 126.4118 - val_loss: 4460.5215 - val_mae: 41.0906 - lr: 0.0010\n",
            "Epoch 35/100\n",
            "113/113 [==============================] - 0s 4ms/step - loss: 72333.1719 - mae: 125.2769 - val_loss: 3788.5718 - val_mae: 37.8585 - lr: 1.0000e-04\n",
            "Epoch 36/100\n",
            "113/113 [==============================] - 1s 5ms/step - loss: 46967.9258 - mae: 123.0824 - val_loss: 4105.5972 - val_mae: 38.3646 - lr: 1.0000e-04\n",
            "Epoch 37/100\n",
            "113/113 [==============================] - 0s 4ms/step - loss: 51337.4375 - mae: 123.0432 - val_loss: 5376.6318 - val_mae: 42.2089 - lr: 1.0000e-04\n",
            "Epoch 38/100\n",
            "113/113 [==============================] - 1s 4ms/step - loss: 74118.0469 - mae: 128.3882 - val_loss: 3902.0044 - val_mae: 36.5878 - lr: 1.0000e-04\n",
            "Epoch 39/100\n",
            "113/113 [==============================] - 0s 4ms/step - loss: 205358.0469 - mae: 128.6966 - val_loss: 2832.1660 - val_mae: 32.9716 - lr: 1.0000e-04\n",
            "57/57 [==============================] - 0s 2ms/step - loss: 1701.8478 - mae: 32.7767\n",
            "Validation mean squared error: 1701.8477783203125\n",
            "Validation mean absolute error: 32.7767448425293\n"
          ]
        }
      ],
      "source": [
        "model = build_model()\n",
        "\n",
        "# Train the model with callbacks\n",
        "history = model.fit(train_predictors, train_labels, batch_size=64, epochs=100, \n",
        "                    validation_data=(val_predictors, val_labels),\n",
        "                    callbacks=[early_stop, reduce_lr])\n",
        "\n",
        "# Evaluate the model\n",
        "mse, mae = model.evaluate(val_predictors, val_labels)\n",
        "print('Validation mean squared error:', mse)\n",
        "print('Validation mean absolute error:', mae)"
      ]
    },
    {
      "cell_type": "markdown",
      "metadata": {
        "id": "XcD7R5-UG8sl"
      },
      "source": [
        "Plot your model performance over training here:"
      ]
    },
    {
      "cell_type": "code",
      "execution_count": 8,
      "metadata": {
        "id": "jXQEVK1bHAHy",
        "outputId": "6fc6d60c-e2f2-4124-f66b-2ac3b2bde49b",
        "colab": {
          "base_uri": "https://localhost:8080/",
          "height": 564
        }
      },
      "outputs": [
        {
          "output_type": "display_data",
          "data": {
            "text/plain": [
              "<Figure size 1200x600 with 1 Axes>"
            ],
            "image/png": "[encoded data removed]"
          },
          "metadata": {}
        }
      ],
      "source": [
        "# Plot the model performance\n",
        "plt.figure(figsize=(12, 6))\n",
        "\n",
        "# Plot the training loss and validation loss\n",
        "plt.plot(history.history['loss'], label='Training Loss')\n",
        "plt.plot(history.history['val_loss'], label='Validation Loss')\n",
        "\n",
        "# Set the title and labels for the axes\n",
        "plt.title('Model Performance Over Training')\n",
        "plt.xlabel('Epoch')\n",
        "plt.ylabel('Loss')\n",
        "plt.legend()\n",
        "\n",
        "# Display the plot\n",
        "plt.show()"
      ]
    },
    {
      "cell_type": "markdown",
      "metadata": {
        "id": "799Ss4r4cDB5"
      },
      "source": [
        "#*Choose Final Configuration and Produce That Model Here:*"
      ]
    },
    {
      "cell_type": "code",
      "execution_count": 6,
      "metadata": {
        "id": "TkVkAJaGcFCJ",
        "outputId": "22fb5a1b-548b-4a6e-910a-7d1a4f1f3676",
        "colab": {
          "base_uri": "https://localhost:8080/"
        }
      },
      "outputs": [
        {
          "output_type": "stream",
          "name": "stdout",
          "text": [
            "Epoch 1/100\n",
            "180/180 [==============================] - 2s 3ms/step - loss: 2338133.0000 - mae: 716.3681\n",
            "Epoch 2/100\n",
            "180/180 [==============================] - 1s 3ms/step - loss: 1591740.2500 - mae: 457.1145\n",
            "Epoch 3/100\n",
            "180/180 [==============================] - 1s 3ms/step - loss: 990560.2500 - mae: 416.4163\n",
            "Epoch 4/100\n",
            "180/180 [==============================] - 1s 3ms/step - loss: 749217.4375 - mae: 364.7162\n",
            "Epoch 5/100\n",
            "180/180 [==============================] - 1s 3ms/step - loss: 298451.6562 - mae: 272.6808\n",
            "Epoch 6/100\n",
            "180/180 [==============================] - 1s 3ms/step - loss: 162630.8281 - mae: 186.1717\n",
            "Epoch 7/100\n",
            "180/180 [==============================] - 1s 3ms/step - loss: 111587.9141 - mae: 159.8768\n",
            "Epoch 8/100\n",
            "180/180 [==============================] - 1s 3ms/step - loss: 109427.2344 - mae: 152.0572\n",
            "Epoch 9/100\n",
            "180/180 [==============================] - 1s 3ms/step - loss: 145972.0938 - mae: 149.5443\n",
            "Epoch 10/100\n",
            "180/180 [==============================] - 1s 3ms/step - loss: 77397.6641 - mae: 145.6326\n",
            "Epoch 11/100\n",
            "180/180 [==============================] - 1s 3ms/step - loss: 106787.6328 - mae: 143.8231\n",
            "Epoch 12/100\n",
            "180/180 [==============================] - 1s 3ms/step - loss: 52635.6758 - mae: 135.6208\n",
            "Epoch 13/100\n",
            "180/180 [==============================] - 1s 3ms/step - loss: 78609.9766 - mae: 138.6740\n",
            "Epoch 14/100\n",
            "180/180 [==============================] - 1s 3ms/step - loss: 100302.3750 - mae: 136.8270\n",
            "Epoch 15/100\n",
            "180/180 [==============================] - 1s 4ms/step - loss: 72488.9766 - mae: 134.8412\n",
            "Epoch 16/100\n",
            "180/180 [==============================] - 1s 4ms/step - loss: 111696.6016 - mae: 134.0172\n",
            "Epoch 17/100\n",
            "180/180 [==============================] - 1s 4ms/step - loss: 106935.3047 - mae: 134.3878\n",
            "Epoch 18/100\n",
            "180/180 [==============================] - 1s 4ms/step - loss: 90699.7656 - mae: 137.9594\n",
            "Epoch 19/100\n",
            "180/180 [==============================] - 1s 4ms/step - loss: 97171.0625 - mae: 134.6007\n",
            "Epoch 20/100\n",
            "180/180 [==============================] - 1s 5ms/step - loss: 64140.8906 - mae: 131.4039\n",
            "Epoch 21/100\n",
            "180/180 [==============================] - 1s 4ms/step - loss: 236606.3906 - mae: 136.6845\n",
            "Epoch 22/100\n",
            "180/180 [==============================] - 1s 5ms/step - loss: 195751.8594 - mae: 133.9996\n",
            "Epoch 23/100\n",
            "180/180 [==============================] - 1s 4ms/step - loss: 59169.0234 - mae: 132.1671\n",
            "Epoch 24/100\n",
            "180/180 [==============================] - 1s 3ms/step - loss: 60702.5078 - mae: 131.9966\n",
            "Epoch 25/100\n",
            "180/180 [==============================] - 1s 3ms/step - loss: 96423.6172 - mae: 133.9336\n",
            "Epoch 26/100\n",
            "180/180 [==============================] - 1s 3ms/step - loss: 73978.2500 - mae: 131.5675\n",
            "Epoch 27/100\n",
            "180/180 [==============================] - 1s 3ms/step - loss: 194989.2656 - mae: 130.8615\n",
            "Epoch 28/100\n",
            "180/180 [==============================] - 1s 3ms/step - loss: 68202.9062 - mae: 130.6804\n",
            "Epoch 29/100\n",
            "180/180 [==============================] - 1s 3ms/step - loss: 66154.6250 - mae: 130.5784\n",
            "Epoch 30/100\n",
            "180/180 [==============================] - 1s 3ms/step - loss: 104747.0703 - mae: 132.0547\n",
            "Epoch 31/100\n",
            "180/180 [==============================] - 1s 3ms/step - loss: 65752.5625 - mae: 130.3071\n",
            "Epoch 32/100\n",
            "180/180 [==============================] - 1s 3ms/step - loss: 83995.9219 - mae: 131.0065\n",
            "Epoch 33/100\n",
            "180/180 [==============================] - 1s 3ms/step - loss: 78067.9844 - mae: 130.2480\n",
            "Epoch 34/100\n",
            "180/180 [==============================] - 1s 3ms/step - loss: 66987.5078 - mae: 131.0757\n",
            "Epoch 35/100\n",
            "180/180 [==============================] - 1s 3ms/step - loss: 78384.4922 - mae: 131.0065\n",
            "Epoch 36/100\n",
            "180/180 [==============================] - 1s 3ms/step - loss: 142588.6094 - mae: 131.0354\n",
            "Epoch 37/100\n",
            "180/180 [==============================] - 1s 3ms/step - loss: 193910.0312 - mae: 133.7420\n",
            "Epoch 38/100\n",
            "180/180 [==============================] - 1s 3ms/step - loss: 96712.4453 - mae: 131.0786\n",
            "Epoch 39/100\n",
            "180/180 [==============================] - 1s 3ms/step - loss: 74367.1797 - mae: 128.2733\n",
            "Epoch 40/100\n",
            "180/180 [==============================] - 1s 3ms/step - loss: 71063.8906 - mae: 129.6703\n",
            "Epoch 41/100\n",
            "180/180 [==============================] - 1s 4ms/step - loss: 68444.2344 - mae: 127.2425\n",
            "Epoch 42/100\n",
            "180/180 [==============================] - 1s 4ms/step - loss: 65020.6289 - mae: 126.8177\n",
            "Epoch 43/100\n",
            "180/180 [==============================] - 1s 4ms/step - loss: 68753.8359 - mae: 127.5019\n",
            "Epoch 44/100\n",
            "180/180 [==============================] - 1s 4ms/step - loss: 74834.7656 - mae: 127.3060\n",
            "Epoch 45/100\n",
            "180/180 [==============================] - 1s 4ms/step - loss: 106606.3047 - mae: 131.3233\n",
            "Epoch 46/100\n",
            "180/180 [==============================] - 1s 3ms/step - loss: 67015.4219 - mae: 128.4193\n",
            "Epoch 47/100\n",
            "180/180 [==============================] - 1s 3ms/step - loss: 92205.6328 - mae: 130.9384\n",
            "Epoch 48/100\n",
            "180/180 [==============================] - 1s 3ms/step - loss: 91524.7578 - mae: 129.7507\n",
            "Epoch 49/100\n",
            "180/180 [==============================] - 1s 3ms/step - loss: 127484.9531 - mae: 131.0066\n",
            "Epoch 50/100\n",
            "180/180 [==============================] - 1s 3ms/step - loss: 91487.8672 - mae: 128.2252\n",
            "Epoch 51/100\n",
            "180/180 [==============================] - 1s 3ms/step - loss: 89732.9609 - mae: 128.7308\n",
            "Epoch 52/100\n",
            "180/180 [==============================] - 1s 3ms/step - loss: 76335.6484 - mae: 128.3372\n",
            "Epoch 53/100\n",
            "180/180 [==============================] - 1s 3ms/step - loss: 62746.7461 - mae: 125.8589\n",
            "Epoch 54/100\n",
            "180/180 [==============================] - 1s 3ms/step - loss: 59852.0117 - mae: 127.7482\n",
            "Epoch 55/100\n",
            "180/180 [==============================] - 1s 3ms/step - loss: 149216.3906 - mae: 131.9339\n",
            "Epoch 56/100\n",
            "180/180 [==============================] - 1s 3ms/step - loss: 139509.1406 - mae: 129.2400\n",
            "Epoch 57/100\n",
            "180/180 [==============================] - 1s 3ms/step - loss: 129576.4219 - mae: 129.9880\n",
            "Epoch 58/100\n",
            "180/180 [==============================] - 1s 3ms/step - loss: 83617.5000 - mae: 127.4999\n",
            "Epoch 59/100\n",
            "180/180 [==============================] - 1s 3ms/step - loss: 115772.1562 - mae: 132.0357\n",
            "Epoch 60/100\n",
            "180/180 [==============================] - 1s 3ms/step - loss: 125368.1953 - mae: 129.9134\n",
            "Epoch 61/100\n",
            "180/180 [==============================] - 1s 3ms/step - loss: 104015.6406 - mae: 128.7352\n",
            "Epoch 62/100\n",
            "180/180 [==============================] - 1s 3ms/step - loss: 119102.5234 - mae: 128.4841\n",
            "Epoch 63/100\n",
            "180/180 [==============================] - 1s 4ms/step - loss: 189265.1875 - mae: 128.6147\n",
            "Epoch 64/100\n",
            "180/180 [==============================] - 1s 4ms/step - loss: 162799.9219 - mae: 130.1388\n",
            "Epoch 65/100\n",
            "180/180 [==============================] - 1s 4ms/step - loss: 252677.7500 - mae: 132.5815\n",
            "Epoch 66/100\n",
            "180/180 [==============================] - 1s 4ms/step - loss: 102431.2031 - mae: 130.3335\n",
            "Epoch 67/100\n",
            "180/180 [==============================] - 1s 4ms/step - loss: 75277.0156 - mae: 127.4420\n",
            "Epoch 68/100\n",
            "180/180 [==============================] - 1s 3ms/step - loss: 62325.6250 - mae: 127.3553\n",
            "Epoch 69/100\n",
            "180/180 [==============================] - 1s 3ms/step - loss: 110866.8047 - mae: 128.8452\n",
            "Epoch 70/100\n",
            "180/180 [==============================] - 1s 3ms/step - loss: 74173.0703 - mae: 127.1007\n",
            "Epoch 71/100\n",
            "180/180 [==============================] - 1s 3ms/step - loss: 220378.3125 - mae: 132.4037\n",
            "Epoch 72/100\n",
            "180/180 [==============================] - 1s 3ms/step - loss: 64217.0820 - mae: 125.0334\n",
            "Epoch 73/100\n",
            "180/180 [==============================] - 1s 3ms/step - loss: 159804.6562 - mae: 131.9729\n",
            "Epoch 74/100\n",
            "180/180 [==============================] - 1s 3ms/step - loss: 94684.0000 - mae: 126.2392\n",
            "Epoch 75/100\n",
            "180/180 [==============================] - 1s 3ms/step - loss: 241793.9375 - mae: 130.7127\n",
            "Epoch 76/100\n",
            "180/180 [==============================] - 1s 3ms/step - loss: 68059.1562 - mae: 126.7398\n",
            "Epoch 77/100\n",
            "180/180 [==============================] - 0s 3ms/step - loss: 134295.1406 - mae: 128.1078\n",
            "Epoch 78/100\n",
            "180/180 [==============================] - 1s 3ms/step - loss: 51194.5859 - mae: 126.1920\n",
            "Epoch 79/100\n",
            "180/180 [==============================] - 1s 3ms/step - loss: 68518.1875 - mae: 127.3559\n",
            "Epoch 80/100\n",
            "180/180 [==============================] - 1s 3ms/step - loss: 94645.2109 - mae: 126.6176\n",
            "Epoch 81/100\n",
            "180/180 [==============================] - 1s 3ms/step - loss: 104014.6172 - mae: 125.9273\n",
            "Epoch 82/100\n",
            "180/180 [==============================] - 1s 3ms/step - loss: 83698.3516 - mae: 125.4762\n",
            "Epoch 83/100\n",
            "180/180 [==============================] - 1s 3ms/step - loss: 82447.3984 - mae: 127.0041\n",
            "Epoch 84/100\n",
            "180/180 [==============================] - 1s 3ms/step - loss: 81188.6797 - mae: 127.1267\n",
            "Epoch 85/100\n",
            "180/180 [==============================] - 1s 4ms/step - loss: 148698.8594 - mae: 127.7536\n",
            "Epoch 86/100\n",
            "180/180 [==============================] - 1s 4ms/step - loss: 73498.8359 - mae: 126.4007\n",
            "Epoch 87/100\n",
            "180/180 [==============================] - 1s 4ms/step - loss: 167786.2031 - mae: 130.9432\n",
            "Epoch 88/100\n",
            "180/180 [==============================] - 1s 4ms/step - loss: 165670.6250 - mae: 130.7395\n",
            "Epoch 89/100\n",
            "180/180 [==============================] - 1s 4ms/step - loss: 92993.2266 - mae: 127.1277\n",
            "Epoch 90/100\n",
            "180/180 [==============================] - 1s 3ms/step - loss: 111734.8125 - mae: 130.1941\n",
            "Epoch 91/100\n",
            "180/180 [==============================] - 1s 3ms/step - loss: 107961.4531 - mae: 126.8121\n",
            "Epoch 92/100\n",
            "180/180 [==============================] - 1s 3ms/step - loss: 81296.1406 - mae: 126.8635\n",
            "Epoch 93/100\n",
            "180/180 [==============================] - 1s 3ms/step - loss: 61728.5625 - mae: 126.2253\n",
            "Epoch 94/100\n",
            "180/180 [==============================] - 1s 3ms/step - loss: 69369.3438 - mae: 125.0677\n",
            "Epoch 95/100\n",
            "180/180 [==============================] - 1s 3ms/step - loss: 65436.1367 - mae: 127.8440\n",
            "Epoch 96/100\n",
            "180/180 [==============================] - 1s 3ms/step - loss: 65355.6992 - mae: 124.4581\n",
            "Epoch 97/100\n",
            "180/180 [==============================] - 1s 3ms/step - loss: 67587.3672 - mae: 126.9646\n",
            "Epoch 98/100\n",
            "180/180 [==============================] - 1s 3ms/step - loss: 76559.6953 - mae: 124.9511\n",
            "Epoch 99/100\n",
            "180/180 [==============================] - 1s 3ms/step - loss: 75115.8750 - mae: 125.4452\n",
            "Epoch 100/100\n",
            "180/180 [==============================] - 1s 3ms/step - loss: 108830.3672 - mae: 128.0213\n"
          ]
        },
        {
          "output_type": "execute_result",
          "data": {
            "text/plain": [
              "<keras.callbacks.History at 0x7f1358058310>"
            ]
          },
          "metadata": {},
          "execution_count": 6
        }
      ],
      "source": [
        "model = build_model()\n",
        "model.fit(predictors,labels,epochs=100, batch_size=50) # for example"
      ]
    },
    {
      "cell_type": "markdown",
      "metadata": {
        "id": "MFDAd_jXiFHR"
      },
      "source": [
        "Here's what the resulting model looks like."
      ]
    },
    {
      "cell_type": "code",
      "execution_count": 10,
      "metadata": {
        "id": "XmZBB8Y4iJER",
        "outputId": "45c6a38b-e6b9-4262-ae4b-1e0f7beaf179",
        "colab": {
          "base_uri": "https://localhost:8080/"
        }
      },
      "outputs": [
        {
          "output_type": "stream",
          "name": "stdout",
          "text": [
            "Model: \"sequential_3\"\n",
            "_________________________________________________________________\n",
            " Layer (type)                Output Shape              Param #   \n",
            "=================================================================\n",
            " dense_12 (Dense)            (None, 128)               2176      \n",
            "                                                                 \n",
            " dropout_9 (Dropout)         (None, 128)               0         \n",
            "                                                                 \n",
            " dense_13 (Dense)            (None, 64)                8256      \n",
            "                                                                 \n",
            " dropout_10 (Dropout)        (None, 64)                0         \n",
            "                                                                 \n",
            " dense_14 (Dense)            (None, 32)                2080      \n",
            "                                                                 \n",
            " dropout_11 (Dropout)        (None, 32)                0         \n",
            "                                                                 \n",
            " dense_15 (Dense)            (None, 1)                 33        \n",
            "                                                                 \n",
            "=================================================================\n",
            "Total params: 12,545\n",
            "Trainable params: 12,545\n",
            "Non-trainable params: 0\n",
            "_________________________________________________________________\n"
          ]
        }
      ],
      "source": [
        "model.summary()"
      ]
    },
    {
      "cell_type": "markdown",
      "metadata": {
        "id": "9xWiloTgSuC_"
      },
      "source": [
        "#*Final Evaluation*"
      ]
    },
    {
      "cell_type": "markdown",
      "metadata": {
        "id": "JVpo01AsSySZ"
      },
      "source": [
        "Don't modify this section; this is the code I will use to evaluate that your model is output properly and that it can generate predictions on new test observations it has never seen before. If your model breaks when I feed it the new data, I will deduct marks, so please ensure that your data pre-processing function works properly!"
      ]
    },
    {
      "cell_type": "code",
      "execution_count": 11,
      "metadata": {
        "id": "RzEJ5p5tS4Zz",
        "outputId": "f14b08e5-3d23-4601-c608-679717f2784e",
        "colab": {
          "base_uri": "https://localhost:8080/",
          "height": 402
        }
      },
      "outputs": [
        {
          "output_type": "display_data",
          "data": {
            "text/plain": [
              "<IPython.core.display.HTML object>"
            ],
            "text/html": [
              "\n",
              "     <input type=\"file\" id=\"files-e1afd988-7f7f-49b3-aa29-38ef68aa9eb3\" name=\"files[]\" multiple disabled\n",
              "        style=\"border:none\" />\n",
              "     <output id=\"result-e1afd988-7f7f-49b3-aa29-38ef68aa9eb3\">\n",
              "      Upload widget is only available when the cell has been executed in the\n",
              "      current browser session. Please rerun this cell to enable.\n",
              "      </output>\n",
              "      <script>// Copyright 2017 Google LLC\n",
              "//\n",
              "// Licensed under the Apache License, Version 2.0 (the \"License\");\n",
              "// you may not use this file except in compliance with the License.\n",
              "// You may obtain a copy of the License at\n",
              "//\n",
              "//      http://www.apache.org/licenses/LICENSE-2.0\n",
              "//\n",
              "// Unless required by applicable law or agreed to in writing, software\n",
              "// distributed under the License is distributed on an \"AS IS\" BASIS,\n",
              "// WITHOUT WARRANTIES OR CONDITIONS OF ANY KIND, either express or implied.\n",
              "// See the License for the specific language governing permissions and\n",
              "// limitations under the License.\n",
              "\n",
              "/**\n",
              " * @fileoverview Helpers for google.colab Python module.\n",
              " */\n",
              "(function(scope) {\n",
              "function span(text, styleAttributes = {}) {\n",
              "  const element = document.createElement('span');\n",
              "  element.textContent = text;\n",
              "  for (const key of Object.keys(styleAttributes)) {\n",
              "    element.style[key] = styleAttributes[key];\n",
              "  }\n",
              "  return element;\n",
              "}\n",
              "\n",
              "// Max number of bytes which will be uploaded at a time.\n",
              "const MAX_PAYLOAD_SIZE = 100 * 1024;\n",
              "\n",
              "function _uploadFiles(inputId, outputId) {\n",
              "  const steps = uploadFilesStep(inputId, outputId);\n",
              "  const outputElement = document.getElementById(outputId);\n",
              "  // Cache steps on the outputElement to make it available for the next call\n",
              "  // to uploadFilesContinue from Python.\n",
              "  outputElement.steps = steps;\n",
              "\n",
              "  return _uploadFilesContinue(outputId);\n",
              "}\n",
              "\n",
              "// This is roughly an async generator (not supported in the browser yet),\n",
              "// where there are multiple asynchronous steps and the Python side is going\n",
              "// to poll for completion of each step.\n",
              "// This uses a Promise to block the python side on completion of each step,\n",
              "// then passes the result of the previous step as the input to the next step.\n",
              "function _uploadFilesContinue(outputId) {\n",
              "  const outputElement = document.getElementById(outputId);\n",
              "  const steps = outputElement.steps;\n",
              "\n",
              "  const next = steps.next(outputElement.lastPromiseValue);\n",
              "  return Promise.resolve(next.value.promise).then((value) => {\n",
              "    // Cache the last promise value to make it available to the next\n",
              "    // step of the generator.\n",
              "    outputElement.lastPromiseValue = value;\n",
              "    return next.value.response;\n",
              "  });\n",
              "}\n",
              "\n",
              "/**\n",
              " * Generator function which is called between each async step of the upload\n",
              " * process.\n",
              " * @param {string} inputId Element ID of the input file picker element.\n",
              " * @param {string} outputId Element ID of the output display.\n",
              " * @return {!Iterable<!Object>} Iterable of next steps.\n",
              " */\n",
              "function* uploadFilesStep(inputId, outputId) {\n",
              "  const inputElement = document.getElementById(inputId);\n",
              "  inputElement.disabled = false;\n",
              "\n",
              "  const outputElement = document.getElementById(outputId);\n",
              "  outputElement.innerHTML = '';\n",
              "\n",
              "  const pickedPromise = new Promise((resolve) => {\n",
              "    inputElement.addEventListener('change', (e) => {\n",
              "      resolve(e.target.files);\n",
              "    });\n",
              "  });\n",
              "\n",
              "  const cancel = document.createElement('button');\n",
              "  inputElement.parentElement.appendChild(cancel);\n",
              "  cancel.textContent = 'Cancel upload';\n",
              "  const cancelPromise = new Promise((resolve) => {\n",
              "    cancel.onclick = () => {\n",
              "      resolve(null);\n",
              "    };\n",
              "  });\n",
              "\n",
              "  // Wait for the user to pick the files.\n",
              "  const files = yield {\n",
              "    promise: Promise.race([pickedPromise, cancelPromise]),\n",
              "    response: {\n",
              "      action: 'starting',\n",
              "    }\n",
              "  };\n",
              "\n",
              "  cancel.remove();\n",
              "\n",
              "  // Disable the input element since further picks are not allowed.\n",
              "  inputElement.disabled = true;\n",
              "\n",
              "  if (!files) {\n",
              "    return {\n",
              "      response: {\n",
              "        action: 'complete',\n",
              "      }\n",
              "    };\n",
              "  }\n",
              "\n",
              "  for (const file of files) {\n",
              "    const li = document.createElement('li');\n",
              "    li.append(span(file.name, {fontWeight: 'bold'}));\n",
              "    li.append(span(\n",
              "        `(${file.type || 'n/a'}) - ${file.size} bytes, ` +\n",
              "        `last modified: ${\n",
              "            file.lastModifiedDate ? file.lastModifiedDate.toLocaleDateString() :\n",
              "                                    'n/a'} - `));\n",
              "    const percent = span('0% done');\n",
              "    li.appendChild(percent);\n",
              "\n",
              "    outputElement.appendChild(li);\n",
              "\n",
              "    const fileDataPromise = new Promise((resolve) => {\n",
              "      const reader = new FileReader();\n",
              "      reader.onload = (e) => {\n",
              "        resolve(e.target.result);\n",
              "      };\n",
              "      reader.readAsArrayBuffer(file);\n",
              "    });\n",
              "    // Wait for the data to be ready.\n",
              "    let fileData = yield {\n",
              "      promise: fileDataPromise,\n",
              "      response: {\n",
              "        action: 'continue',\n",
              "      }\n",
              "    };\n",
              "\n",
              "    // Use a chunked sending to avoid message size limits. See b/62115660.\n",
              "    let position = 0;\n",
              "    do {\n",
              "      const length = Math.min(fileData.byteLength - position, MAX_PAYLOAD_SIZE);\n",
              "      const chunk = new Uint8Array(fileData, position, length);\n",
              "      position += length;\n",
              "\n",
              "      const base64 = btoa(String.fromCharCode.apply(null, chunk));\n",
              "      yield {\n",
              "        response: {\n",
              "          action: 'append',\n",
              "          file: file.name,\n",
              "          data: base64,\n",
              "        },\n",
              "      };\n",
              "\n",
              "      let percentDone = fileData.byteLength === 0 ?\n",
              "          100 :\n",
              "          Math.round((position / fileData.byteLength) * 100);\n",
              "      percent.textContent = `${percentDone}% done`;\n",
              "\n",
              "    } while (position < fileData.byteLength);\n",
              "  }\n",
              "\n",
              "  // All done.\n",
              "  yield {\n",
              "    response: {\n",
              "      action: 'complete',\n",
              "    }\n",
              "  };\n",
              "}\n",
              "\n",
              "scope.google = scope.google || {};\n",
              "scope.google.colab = scope.google.colab || {};\n",
              "scope.google.colab._files = {\n",
              "  _uploadFiles,\n",
              "  _uploadFilesContinue,\n",
              "};\n",
              "})(self);\n",
              "</script> "
            ]
          },
          "metadata": {}
        },
        {
          "output_type": "error",
          "ename": "KeyboardInterrupt",
          "evalue": "ignored",
          "traceback": [
            "\u001b[0;31m---------------------------------------------------------------------------\u001b[0m",
            "\u001b[0;31mKeyboardInterrupt\u001b[0m                         Traceback (most recent call last)",
            "\u001b[0;32m<ipython-input-11-c748d6108fdb>\u001b[0m in \u001b[0;36m<cell line: 5>\u001b[0;34m()\u001b[0m\n\u001b[1;32m      3\u001b[0m \u001b[0;34m\u001b[0m\u001b[0m\n\u001b[1;32m      4\u001b[0m \u001b[0;31m# I'm going to upload my holdout dataset (same set of features)\u001b[0m\u001b[0;34m\u001b[0m\u001b[0;34m\u001b[0m\u001b[0m\n\u001b[0;32m----> 5\u001b[0;31m \u001b[0muploaded\u001b[0m \u001b[0;34m=\u001b[0m \u001b[0mfiles\u001b[0m\u001b[0;34m.\u001b[0m\u001b[0mupload\u001b[0m\u001b[0;34m(\u001b[0m\u001b[0;34m)\u001b[0m\u001b[0;34m\u001b[0m\u001b[0;34m\u001b[0m\u001b[0m\n\u001b[0m\u001b[1;32m      6\u001b[0m \u001b[0mbluebike_holdout\u001b[0m \u001b[0;34m=\u001b[0m \u001b[0mpd\u001b[0m\u001b[0;34m.\u001b[0m\u001b[0mread_csv\u001b[0m\u001b[0;34m(\u001b[0m\u001b[0mio\u001b[0m\u001b[0;34m.\u001b[0m\u001b[0mBytesIO\u001b[0m\u001b[0;34m(\u001b[0m\u001b[0muploaded\u001b[0m\u001b[0;34m[\u001b[0m\u001b[0;34m'bluebikes_holdout.csv'\u001b[0m\u001b[0;34m]\u001b[0m\u001b[0;34m)\u001b[0m\u001b[0;34m)\u001b[0m\u001b[0;34m\u001b[0m\u001b[0;34m\u001b[0m\u001b[0m\n\u001b[1;32m      7\u001b[0m \u001b[0;34m\u001b[0m\u001b[0m\n",
            "\u001b[0;32m/usr/local/lib/python3.9/dist-packages/google/colab/files.py\u001b[0m in \u001b[0;36mupload\u001b[0;34m()\u001b[0m\n\u001b[1;32m     67\u001b[0m   \"\"\"\n\u001b[1;32m     68\u001b[0m \u001b[0;34m\u001b[0m\u001b[0m\n\u001b[0;32m---> 69\u001b[0;31m   \u001b[0muploaded_files\u001b[0m \u001b[0;34m=\u001b[0m \u001b[0m_upload_files\u001b[0m\u001b[0;34m(\u001b[0m\u001b[0mmultiple\u001b[0m\u001b[0;34m=\u001b[0m\u001b[0;32mTrue\u001b[0m\u001b[0;34m)\u001b[0m\u001b[0;34m\u001b[0m\u001b[0;34m\u001b[0m\u001b[0m\n\u001b[0m\u001b[1;32m     70\u001b[0m   \u001b[0;31m# Mapping from original filename to filename as saved locally.\u001b[0m\u001b[0;34m\u001b[0m\u001b[0;34m\u001b[0m\u001b[0m\n\u001b[1;32m     71\u001b[0m   \u001b[0mlocal_filenames\u001b[0m \u001b[0;34m=\u001b[0m \u001b[0mdict\u001b[0m\u001b[0;34m(\u001b[0m\u001b[0;34m)\u001b[0m\u001b[0;34m\u001b[0m\u001b[0;34m\u001b[0m\u001b[0m\n",
            "\u001b[0;32m/usr/local/lib/python3.9/dist-packages/google/colab/files.py\u001b[0m in \u001b[0;36m_upload_files\u001b[0;34m(multiple)\u001b[0m\n\u001b[1;32m    151\u001b[0m \u001b[0;34m\u001b[0m\u001b[0m\n\u001b[1;32m    152\u001b[0m   \u001b[0;31m# First result is always an indication that the file picker has completed.\u001b[0m\u001b[0;34m\u001b[0m\u001b[0;34m\u001b[0m\u001b[0m\n\u001b[0;32m--> 153\u001b[0;31m   result = _output.eval_js(\n\u001b[0m\u001b[1;32m    154\u001b[0m       'google.colab._files._uploadFiles(\"{input_id}\", \"{output_id}\")'.format(\n\u001b[1;32m    155\u001b[0m           \u001b[0minput_id\u001b[0m\u001b[0;34m=\u001b[0m\u001b[0minput_id\u001b[0m\u001b[0;34m,\u001b[0m \u001b[0moutput_id\u001b[0m\u001b[0;34m=\u001b[0m\u001b[0moutput_id\u001b[0m\u001b[0;34m\u001b[0m\u001b[0;34m\u001b[0m\u001b[0m\n",
            "\u001b[0;32m/usr/local/lib/python3.9/dist-packages/google/colab/output/_js.py\u001b[0m in \u001b[0;36meval_js\u001b[0;34m(script, ignore_result, timeout_sec)\u001b[0m\n\u001b[1;32m     38\u001b[0m   \u001b[0;32mif\u001b[0m \u001b[0mignore_result\u001b[0m\u001b[0;34m:\u001b[0m\u001b[0;34m\u001b[0m\u001b[0;34m\u001b[0m\u001b[0m\n\u001b[1;32m     39\u001b[0m     \u001b[0;32mreturn\u001b[0m\u001b[0;34m\u001b[0m\u001b[0;34m\u001b[0m\u001b[0m\n\u001b[0;32m---> 40\u001b[0;31m   \u001b[0;32mreturn\u001b[0m \u001b[0m_message\u001b[0m\u001b[0;34m.\u001b[0m\u001b[0mread_reply_from_input\u001b[0m\u001b[0;34m(\u001b[0m\u001b[0mrequest_id\u001b[0m\u001b[0;34m,\u001b[0m \u001b[0mtimeout_sec\u001b[0m\u001b[0;34m)\u001b[0m\u001b[0;34m\u001b[0m\u001b[0;34m\u001b[0m\u001b[0m\n\u001b[0m\u001b[1;32m     41\u001b[0m \u001b[0;34m\u001b[0m\u001b[0m\n\u001b[1;32m     42\u001b[0m \u001b[0;34m\u001b[0m\u001b[0m\n",
            "\u001b[0;32m/usr/local/lib/python3.9/dist-packages/google/colab/_message.py\u001b[0m in \u001b[0;36mread_reply_from_input\u001b[0;34m(message_id, timeout_sec)\u001b[0m\n\u001b[1;32m     95\u001b[0m     \u001b[0mreply\u001b[0m \u001b[0;34m=\u001b[0m \u001b[0m_read_next_input_message\u001b[0m\u001b[0;34m(\u001b[0m\u001b[0;34m)\u001b[0m\u001b[0;34m\u001b[0m\u001b[0;34m\u001b[0m\u001b[0m\n\u001b[1;32m     96\u001b[0m     \u001b[0;32mif\u001b[0m \u001b[0mreply\u001b[0m \u001b[0;34m==\u001b[0m \u001b[0m_NOT_READY\u001b[0m \u001b[0;32mor\u001b[0m \u001b[0;32mnot\u001b[0m \u001b[0misinstance\u001b[0m\u001b[0;34m(\u001b[0m\u001b[0mreply\u001b[0m\u001b[0;34m,\u001b[0m \u001b[0mdict\u001b[0m\u001b[0;34m)\u001b[0m\u001b[0;34m:\u001b[0m\u001b[0;34m\u001b[0m\u001b[0;34m\u001b[0m\u001b[0m\n\u001b[0;32m---> 97\u001b[0;31m       \u001b[0mtime\u001b[0m\u001b[0;34m.\u001b[0m\u001b[0msleep\u001b[0m\u001b[0;34m(\u001b[0m\u001b[0;36m0.025\u001b[0m\u001b[0;34m)\u001b[0m\u001b[0;34m\u001b[0m\u001b[0;34m\u001b[0m\u001b[0m\n\u001b[0m\u001b[1;32m     98\u001b[0m       \u001b[0;32mcontinue\u001b[0m\u001b[0;34m\u001b[0m\u001b[0;34m\u001b[0m\u001b[0m\n\u001b[1;32m     99\u001b[0m     if (\n",
            "\u001b[0;31mKeyboardInterrupt\u001b[0m: "
          ]
        }
      ],
      "source": [
        "from google.colab import files\n",
        "import io\n",
        "\n",
        "# I'm going to upload my holdout dataset (same set of features)\n",
        "uploaded = files.upload()\n",
        "bluebike_holdout = pd.read_csv(io.BytesIO(uploaded['bluebikes_holdout.csv']))\n",
        "\n",
        "# I'm then going to pre-process it using your commands.\n",
        "holdout_predictors, holdout_labels = processData(bluebike_holdout)\n",
        "\n",
        "# Then I'm going to evaluate your model's performance on that data.\n",
        "loss_metrics = model.evaluate(holdout_predictors,holdout_labels,verbose=1)"
      ]
    }
  ],
  "metadata": {
    "accelerator": "GPU",
    "colab": {
      "provenance": []
    },
    "kernelspec": {
      "display_name": "Python 3",
      "name": "python3"
    },
    "language_info": {
      "name": "python"
    }
  },
  "nbformat": 4,
  "nbformat_minor": 0
}